{
  "nbformat": 4,
  "nbformat_minor": 0,
  "metadata": {
    "colab": {
      "provenance": [],
      "authorship_tag": "ABX9TyP+ezH4CbkGdrF+V8SnF5/W",
      "include_colab_link": true
    },
    "kernelspec": {
      "name": "python3",
      "display_name": "Python 3"
    },
    "language_info": {
      "name": "python"
    }
  },
  "cells": [
    {
      "cell_type": "markdown",
      "metadata": {
        "id": "view-in-github",
        "colab_type": "text"
      },
      "source": [
        "<a href=\"https://colab.research.google.com/github/Erick88santos/Test-Serverless-Azure/blob/main/ServerlessAzureFunctions.ipynb\" target=\"_parent\"><img src=\"https://colab.research.google.com/assets/colab-badge.svg\" alt=\"Open In Colab\"/></a>"
      ]
    },
    {
      "cell_type": "markdown",
      "source": [
        "#**Introdução aos Conceitos de Serverless e Azure Functions**\n",
        "\n",
        "[Serverless Azure](https://web.dio.me/course/serverless-e-azure-functions/learning/387b4379-f316-474c-a140-ff37926fc3bd)"
      ],
      "metadata": {
        "id": "Oz9OK-pFcrvg"
      }
    },
    {
      "cell_type": "code",
      "execution_count": null,
      "metadata": {
        "id": "yHT1YnEPcaXS"
      },
      "outputs": [],
      "source": []
    }
  ]
}